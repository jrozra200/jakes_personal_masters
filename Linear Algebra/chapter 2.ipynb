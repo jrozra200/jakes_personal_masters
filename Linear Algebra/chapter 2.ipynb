{
  "cells": [
    {
      "cell_type": "raw",
      "metadata": {},
      "source": [
        "---\n",
        "title: \"Chapter 2\"\n",
        "author: \"Jake Rozran\"\n",
        "format: \n",
        "    html:\n",
        "        toc: true\n",
        "        smooth-scroll: true\n",
        "        code-fold: true\n",
        "---"
      ],
      "id": "d8268414"
    },
    {
      "cell_type": "markdown",
      "metadata": {},
      "source": [
        "## 2.4\n",
        "\n",
        "### Practice Problems\n",
        "\n",
        "a. [4 5 1 0] + [-4 -3 3 10] = [0 2 4 10]\n",
        "b. [4 2 0]^T^ - [6 -4 -60]^T^ + [2 -5 40]^T^ = [0 1 100]^T^ --> seems like there is a typo in the book\n"
      ],
      "id": "e729a75e"
    },
    {
      "cell_type": "code",
      "metadata": {},
      "source": [
        "import numpy as np\n",
        "\n",
        "array1 = np.array([ [4], [2], [0] ])\n",
        "array2 = np.array([ [6], [-4], [-60] ])\n",
        "array3 = np.array([ [2], [-5], [40] ])\n",
        "\n",
        "array1 - array2 + array3 "
      ],
      "id": "5049383d",
      "execution_count": null,
      "outputs": []
    },
    {
      "cell_type": "markdown",
      "metadata": {},
      "source": [
        "c. [1 0]^T^ + [1 2]^T^ = [2 2]^T^\n",
        "d. [2 2]^T^ - [3 4]^T^ = [-1 -2]^T^\n",
        "e. [-3 1]^T^ + [3 -1]^T^ = [0 0]^T^\n",
        "f. [1 4]^T^ + [2 8]^T^ = [3 12]^T^\n",
        "\n",
        "## 2.5\n",
        "\n",
        "### Code Block\n"
      ],
      "id": "233b7042"
    },
    {
      "cell_type": "code",
      "metadata": {},
      "source": [
        "v1 = np.array([2, 5, 4, 7])\n",
        "v2 = np.array([4, 1, 0, 2])\n",
        "v3 = (4 * v1) - (2 * v2)\n",
        "v3"
      ],
      "id": "058a7b38",
      "execution_count": null,
      "outputs": []
    },
    {
      "cell_type": "markdown",
      "metadata": {},
      "source": [
        "### Practice Problems\n",
        "\n",
        "a. -2[4 3 0] = [-8 -6 0]\n",
        "b. (-9 + 2 * 5)[0 4 3]^T^ = (1)[0 4 3]^T^ = [0 4 3]^T^\n",
        "c. 0[x y z a]^T^ = [0 0 0 0]^T^\n",
        "d. λ[0 3 1 11]^T^ = [0 3λ λ 11λ]^T^\n",
        "\n",
        "## 2.6 Exercises\n",
        "\n",
        "[Done in OneNote](https://villanova-my.sharepoint.com/:o:/r/personal/jrozran1_villanova_edu/Documents/Jake%27s%20Personal%20Masters?d=wffcd79b69f8942d784546261ca5079fb&csf=1&web=1&e=PNcIHs)\n",
        "\n",
        "## 2.8 Code Challenge\n"
      ],
      "id": "030106fc"
    },
    {
      "cell_type": "code",
      "metadata": {},
      "source": [
        "from plotnine import *\n",
        "import pandas as pd\n",
        "\n",
        "scalars = np.random.normal(size = 10)\n",
        "v = np.array([3, 17])\n",
        "\n",
        "plot_dat = pd.DataFrame()\n",
        "for sclr in scalars:\n",
        "    tmp = pd.DataFrame({\n",
        "        'x': v[0] * sclr,\n",
        "        'y': v[1] * sclr\n",
        "    }, index = [0])\n",
        "    \n",
        "    plot_dat = pd.concat([plot_dat, tmp], ignore_index = True)\n",
        "\n",
        "(\n",
        "    ggplot(plot_dat) +\n",
        "        aes(x = 'x', y = 'y') + \n",
        "        geom_point()\n",
        ")"
      ],
      "id": "9eadccae",
      "execution_count": null,
      "outputs": []
    }
  ],
  "metadata": {
    "kernelspec": {
      "display_name": "Python 3",
      "language": "python",
      "name": "python3"
    }
  },
  "nbformat": 4,
  "nbformat_minor": 5
}